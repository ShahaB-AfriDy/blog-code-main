{
 "cells": [
  {
   "cell_type": "code",
   "execution_count": 1,
   "id": "885ba1b2",
   "metadata": {},
   "outputs": [],
   "source": [
    "from langchain_community.vectorstores import FAISS\n",
    "from langchain.retrievers.contextual_compression import ContextualCompressionRetriever\n",
    "from langchain.retrievers.document_compressors import LLMChainExtractor\n",
    "from langchain_core.documents import Document\n",
    "from langchain_google_genai import ChatGoogleGenerativeAI,GoogleGenerativeAIEmbeddings\n",
    "\n",
    "from dotenv import load_dotenv\n",
    "import os"
   ]
  },
  {
   "cell_type": "code",
   "execution_count": 2,
   "id": "9ca0ca14",
   "metadata": {},
   "outputs": [
    {
     "data": {
      "text/plain": [
       "True"
      ]
     },
     "execution_count": 2,
     "metadata": {},
     "output_type": "execute_result"
    }
   ],
   "source": [
    "## Load environment variables (for Hugging Face API key)\n",
    "load_dotenv()"
   ]
  },
  {
   "cell_type": "markdown",
   "id": "60ee340b",
   "metadata": {},
   "source": [
    "#### 1. Define sample documents"
   ]
  },
  {
   "cell_type": "code",
   "execution_count": 3,
   "id": "8962dfce",
   "metadata": {},
   "outputs": [],
   "source": [
    "docs = [\n",
    "    Document(page_content=(\n",
    "        \"\"\"The Grand Canyon is one of the most visited natural wonders in the world.\n",
    "        Photosynthesis is the process by which green plants convert sunlight into energy.\n",
    "        Millions of tourists travel to see it every year. The rocks date back millions of years.\"\"\"\n",
    "    ), metadata={\"source\": \"Doc1\"}),\n",
    "\n",
    "    Document(page_content=(\n",
    "        \"\"\"In medieval Europe, castles were built primarily for defense.\n",
    "        The chlorophyll in plant cells captures sunlight during photosynthesis.\n",
    "        Knights wore armor made of metal. Siege weapons were often used to breach castle walls.\"\"\"\n",
    "    ), metadata={\"source\": \"Doc2\"}),\n",
    "\n",
    "    Document(page_content=(\n",
    "        \"\"\"Basketball was invented by Dr. James Naismith in the late 19th century.\n",
    "        It was originally played with a soccer ball and peach baskets. NBA is now a global league.\"\"\"\n",
    "    ), metadata={\"source\": \"Doc3\"}),\n",
    "\n",
    "    Document(page_content=(\n",
    "        \"\"\"The history of cinema began in the late 1800s. Silent films were the earliest form.\n",
    "        Thomas Edison was among the pioneers. Photosynthesis does not occur in animal cells.\n",
    "        Modern filmmaking involves complex CGI and sound design.\"\"\"\n",
    "    ), metadata={\"source\": \"Doc4\"})\n",
    "]\n"
   ]
  },
  {
   "cell_type": "markdown",
   "id": "9646eaac",
   "metadata": {},
   "source": [
    "#### 2. Create embeddings using a Gemini model"
   ]
  },
  {
   "cell_type": "code",
   "execution_count": 4,
   "id": "78403363",
   "metadata": {},
   "outputs": [],
   "source": [
    "embedding_model = GoogleGenerativeAIEmbeddings(\n",
    "    model=\"models/gemini-embedding-001\",\n",
    "    google_api_key=os.getenv(\"GOOGLE_API_KEY\"))"
   ]
  },
  {
   "cell_type": "markdown",
   "id": "714dc182",
   "metadata": {},
   "source": [
    "#### 3. Create FAISS vector store"
   ]
  },
  {
   "cell_type": "code",
   "execution_count": 5,
   "id": "50fc5d24",
   "metadata": {},
   "outputs": [],
   "source": [
    "vectorstore = FAISS.from_documents(docs, embedding_model)\n",
    "base_retriever = vectorstore.as_retriever(search_kwargs={\"k\": 5})\n"
   ]
  },
  {
   "cell_type": "markdown",
   "id": "051cfb14",
   "metadata": {},
   "source": [
    "#### 4. Setup gemini model LLM as the compressor\n"
   ]
  },
  {
   "cell_type": "code",
   "execution_count": 6,
   "id": "05533520",
   "metadata": {},
   "outputs": [],
   "source": [
    "llm = ChatGoogleGenerativeAI(\n",
    "    model=\"gemini-2.5-flash-lite\",\n",
    "    api_key=os.getenv(\"GOOGLE_API_KEY\")\n",
    ")\n",
    "compressor = LLMChainExtractor.from_llm(llm)"
   ]
  },
  {
   "cell_type": "markdown",
   "id": "1da00e09",
   "metadata": {},
   "source": [
    "#### 5. Create the Contextual Compression Retriever"
   ]
  },
  {
   "cell_type": "code",
   "execution_count": 7,
   "id": "d4e74dc4",
   "metadata": {},
   "outputs": [],
   "source": [
    "compression_retriever = ContextualCompressionRetriever(\n",
    "    base_retriever=base_retriever,\n",
    "    base_compressor=compressor\n",
    ")"
   ]
  },
  {
   "cell_type": "markdown",
   "id": "8f92e9b6",
   "metadata": {},
   "source": [
    "#### 6. Query the retriever"
   ]
  },
  {
   "cell_type": "code",
   "execution_count": 8,
   "id": "d9e1e506",
   "metadata": {},
   "outputs": [
    {
     "name": "stdout",
     "output_type": "stream",
     "text": [
      "\n",
      "===== Contextually Compressed Results =====\n",
      "\n",
      "--- Result 1 ---\n",
      "Photosynthesis is the process by which green plants convert sunlight into energy.\n",
      "\n",
      "--- Result 2 ---\n",
      "Photosynthesis does not occur in animal cells.\n",
      "\n",
      "--- Result 3 ---\n",
      "The chlorophyll in plant cells captures sunlight during photosynthesis.\n"
     ]
    }
   ],
   "source": [
    "query = \"What is photosynthesis?\"\n",
    "compressed_results = compression_retriever.invoke(query)\n",
    "\n",
    "print(\"\\n===== Contextually Compressed Results =====\")\n",
    "for i, doc in enumerate(compressed_results):\n",
    "    print(f\"\\n--- Result {i+1} ---\")\n",
    "    print(doc.page_content)"
   ]
  },
  {
   "cell_type": "markdown",
   "id": "955e863e",
   "metadata": {},
   "source": [
    "#### 7. Use LLM for QA on top of retriever"
   ]
  },
  {
   "cell_type": "code",
   "execution_count": null,
   "id": "aab4003e",
   "metadata": {},
   "outputs": [
    {
     "name": "stdout",
     "output_type": "stream",
     "text": [
      "\n",
      "===== LLM Response =====\n",
      "Photosynthesis is how green plants make their own food using sunlight. They use the sunlight, along with chlorophyll (which is in their cells and captures the light), to convert it into energy. This process doesn't happen in animal cells.\n"
     ]
    }
   ],
   "source": [
    "from langchain.chains import RetrievalQA\n",
    "\n",
    "qa_chain = RetrievalQA.from_chain_type(\n",
    "    llm=llm,\n",
    "    retriever=compression_retriever,\n",
    "    chain_type=\"stuff\"\n",
    ")\n",
    "\n",
    "response = qa_chain.invoke({\"query\": \"Explain photosynthesis simply.\"})\n",
    "\n",
    "print(\"\\n===== LLM Response =====\")\n",
    "print(response[\"result\"])"
   ]
  }
 ],
 "metadata": {
  "kernelspec": {
   "display_name": "Global2 (Python 3.12.5)",
   "language": "python",
   "name": "global2"
  },
  "language_info": {
   "codemirror_mode": {
    "name": "ipython",
    "version": 3
   },
   "file_extension": ".py",
   "mimetype": "text/x-python",
   "name": "python",
   "nbconvert_exporter": "python",
   "pygments_lexer": "ipython3",
   "version": "3.13.8"
  }
 },
 "nbformat": 4,
 "nbformat_minor": 5
}
