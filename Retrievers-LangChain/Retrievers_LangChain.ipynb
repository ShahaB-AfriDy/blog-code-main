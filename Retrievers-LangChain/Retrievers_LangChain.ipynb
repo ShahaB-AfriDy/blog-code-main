{
  "cells": [
    {
      "cell_type": "code",
      "execution_count": 2,
      "metadata": {},
      "outputs": [
        {
          "data": {
            "text/plain": [
              "True"
            ]
          },
          "execution_count": 2,
          "metadata": {},
          "output_type": "execute_result"
        }
      ],
      "source": [
        "from langchain_google_genai import ChatGoogleGenerativeAI\n",
        "from langchain_google_genai import GoogleGenerativeAIEmbeddings\n",
        "from langchain_community.retrievers import WikipediaRetriever\n",
        "\n",
        "import os\n",
        "from dotenv import load_dotenv\n",
        "load_dotenv()"
      ]
    },
    {
      "cell_type": "code",
      "execution_count": 3,
      "metadata": {
        "id": "0Oq88co3bzR_"
      },
      "outputs": [],
      "source": [
        "embedding_model = GoogleGenerativeAIEmbeddings(\n",
        "    model=\"models/gemini-embedding-001\",\n",
        "    google_api_key=os.getenv(\"GOOGLE_API_KEY\"))"
      ]
    },
    {
      "cell_type": "markdown",
      "metadata": {
        "id": "7Rqxx1FDcbes"
      },
      "source": [
        "# Wikipedia Retriever"
      ]
    },
    {
      "cell_type": "code",
      "execution_count": 4,
      "metadata": {
        "id": "z9pUhiMWbzYV"
      },
      "outputs": [],
      "source": [
        "# Initialize the retriever (optional: set language and top_k)\n",
        "retriever = WikipediaRetriever(top_k_results=2, lang=\"en\")"
      ]
    },
    {
      "cell_type": "code",
      "execution_count": 5,
      "metadata": {
        "id": "0aNHs342ch9k"
      },
      "outputs": [],
      "source": [
        "# Define your query\n",
        "query = \"the geopolitical history of india and pakistan from the perspective of a chinese\"\n",
        "\n",
        "# Get relevant Wikipedia documents\n",
        "docs = retriever.invoke(query)"
      ]
    },
    {
      "cell_type": "code",
      "execution_count": 6,
      "metadata": {
        "colab": {
          "base_uri": "https://localhost:8080/"
        },
        "id": "1btLUq-6ciAK",
        "outputId": "34f1face-a037-4c8f-d9cd-bc0239bb87db"
      },
      "outputs": [
        {
          "name": "stdout",
          "output_type": "stream",
          "text": [
            "\n",
            "--- Result 1 ---\n",
            "Content:\n",
            "Pakistan and the United States established relations on 15 August 1947, a day after the independence of Pakistan, when the United States became one of the first nations to recognise the country.\n",
            "The relationship between the two nations has been described as a \"roller coaster\" characterised by close coordination and lows marked by deep bilateral estrangement. Despite its troubled history, the Pakistani military once occupied an important place in American geopolitical strategy, and has been a major non-NATO ally since 2002. After Pakistan's participation in the Afghan peace process and the Taliban takeover in Afghanistan in 2021, a sizeable number of US policy makers are revisiting the United States' relations with Pakistan. At the same time, the strategic convergence of the United States and India has also brought greater pressure on Pakistani diplomacy.\n",
            "\n",
            "\n",
            "== Background ==\n",
            "\n",
            "During the Cold War (1945–1991), Pakistan allied itself with the Western Bloc led by the United States against the Eastern Bloc led by the Soviet Union, with the former advocating the economic system of capitalism while the latter advocated socialism. Following the 1958 Pakistani military coup, president Muhammad Ayub Khan established a strong military alliance with the United States. During the Bangladesh Liberation War and the Indo-Pakistani War of 1971, the United States aided Pakistan against the Provisional Government of Bangladesh and India. After the Pakistani defeat, Pakistan's leader Zulfikar Ali Bhutto, an anti-American, improved relations with the Soviets. In 1977, Bhutto was overthrown in a military coup led by Muhammad Zia-ul-Haq. Following the Soviet invasion of Afghanistan in 1979, Pakistan and the United States cooperated in the funding and financing of the anti-communist Afghan Mujahideen and then in the ensuing First Afghan Civil War. The United States has imposed sanctions on Pakistan on various occasions to force Pakistan to comply with its strategic interests since 1965, with Pakistan's willingness to participate with the United States in the wars in Somalia and Bosnia, relations improved. However, the United States again suspended aid and imposed sanctions along with India in 1998, only to be lifted once again with the United States engagement in Afghanistan in 2001. Factors involving in the contingency operations, distrust, and different priorities of both nations in the Afghan War led to serious criticism as both sides began to criticize each other's strategy to achieve common goals in the War on Terror. The United States continues to blame Pakistan's military for supporting non-state actors, including the Taliban. Furthermore, drone strikes by both nations, a friendly fire incident at Salala, and an incident involving the arrest of a spy in Lahore further complicated relations for the worse.\n",
            "\n",
            "\n",
            "=== Third-party factors in Pakistan–U.S. relations ===\n",
            "\n",
            "The U.S.'s troubled relationship with Pakistan continues to be eroded by crisis after crisis. It has been alleged that the ISI of Pakistan pays journalists to write articles hostile to the United States in the early 2010s. Despite this, both Pakistan and the United States continue to seek a productive relationship to defeat terrorist organizations in the War on Terror. But in recent years, \"Islamabad has arguably lost some of its strategic significance in the West following the US/NATO withdrawal from Afghanistan\". Pakistan once provided NATO with a supply route to Afghanistan, a link that dominated bilateral relations during the war. However, with the end of the war and the withdrawal of US troops from the region in the early 2020s, Pakistan's influence on the US disappeared and the US no longer needed it to engage with Afghanistan.\n",
            "Pakistan's decades-long rivalry and conflict with the U.S. strategic partner India in the context of Kashmir and all-weather strategic cooperation with China in the context of great power competition between the United States and China poses difficulties for ...\n",
            "\n",
            "--- Result 2 ---\n",
            "Content:\n",
            "China and India maintained peaceful relations for thousands of years, but their relationship has varied since the Chinese Communist Party (CCP)'s victory in the Chinese Civil War in 1949 and the annexation of Tibet by the People's Republic of China. The two nations have sought economic cooperation with each other, while frequent border disputes and economic nationalism in both countries are major points of contention.\n",
            "Cultural and economic relations between China and India date back to ancient times. The Silk Road not only served as a major trade route between India and China, but is also credited for facilitating the spread of Buddhism from India to East Asia. During the 19th century, China was involved in a growing opium trade with the East India Company, which exported opium grown in India. During World War II, both British India and the Republic of China (ROC) played a crucial role in halting the progress of Imperial Japan. After India became independent in 1947, it established relations with the ROC. The modern Sino-Indian diplomatic relationship began in 1950, when India was among the first noncommunist countries to end formal relations with the Republic of China and recognise the PRC as the legitimate government of both Mainland China and Taiwan. China and India are two of the major regional powers in Asia, and are the two most populous countries and among the fastest growing major economies in the world.\n",
            "Growth in diplomatic and economic influence has increased the significance of their bilateral relationship. Between 2008 and 2021, China was India's largest trading partner, and the two countries have extended their strategic and military relations. However, conflict of interest leads to hostility. India has a large trade deficit that is favoured towards China. The two countries failed to resolve their border dispute and Indian media outlets have repeatedly reported Chinese military incursions into Indian territory. And relations between contemporary China and India have been characterised by border disputes, resulting in three military conflicts – the Sino-Indian War of 1962, the border clashes in Nathu La and Cho La in 1967, and the 1987 Sumdorong Chu standoff. Since the late 1980s, both countries have successfully rebuilt diplomatic and economic ties.\n",
            "Since 2013, border disputes have reemerged to take centre stage in the two countries' mutual relations. In early 2018, the two armies got engaged in a standoff at the Doklam plateau along the disputed Bhutan-China border. Since summer 2020, armed standoffs and skirmishes at multiple locations along the entire Sino-Indian border escalated. A serious clash occurred in the Galwan Valley, resulting in the death of 20 Indian soldiers and many Chinese soldiers. Both countries have steadily established military infrastructure along border areas, including amidst the 2020 China–India skirmishes. Additionally, India remains wary about China's strong strategic bilateral relations with Pakistan, and China's relations to separatist groups in Northeast India, while China has expressed concerns about Indian military and economic activities in the disputed South China Sea as well as hosting of anti-China activity from Tibetan exiles. Today, the South Asian region is the premier site of intensified great power competition between China and India.\n",
            "\n",
            "\n",
            "== Geopolitical overview ==\n",
            "\n",
            "The China–India border straddles the Himalayas, with Nepal and Bhutan acting as buffer states. Parts of the disputed Kashmir region claimed by India (J&K and Ladakh) are claimed and administered by either Pakistan (Azad Kashmir and Gilgit Baltistan) or by the PRC (Aksai Chin). The Government of Pakistan, on its maps, shows the Aksai Chin area as mostly within China and labels the boundary \"Frontier Undefined\", while India holds that Aksai Chin is illegally occupied by the PRC. China and India also dispute most of Arunachal Pradesh.\n",
            "Not only is China's India policy shaped by greater competition with the United St...\n"
          ]
        }
      ],
      "source": [
        "# Print retrieved content\n",
        "for i, doc in enumerate(docs):\n",
        "    print(f\"\\n--- Result {i+1} ---\")\n",
        "    print(f\"Content:\\n{doc.page_content}...\")  # truncate for display"
      ]
    },
    {
      "cell_type": "markdown",
      "metadata": {
        "id": "yGUKI9s4c-A1"
      },
      "source": [
        "# Vector Store Retriever"
      ]
    },
    {
      "cell_type": "code",
      "execution_count": 7,
      "metadata": {
        "id": "bP0y6sjzc9aN"
      },
      "outputs": [],
      "source": [
        "from langchain_community.vectorstores import Chroma\n",
        "from langchain_core.documents import Document"
      ]
    },
    {
      "cell_type": "code",
      "execution_count": 8,
      "metadata": {
        "id": "Ljlw2JLhciC2"
      },
      "outputs": [],
      "source": [
        "# Step 1: Your source documents\n",
        "documents = [\n",
        "    Document(page_content=\"LangChain helps developers build LLM applications easily.\"),\n",
        "    Document(page_content=\"Chroma is a vector database optimized for LLM-based search.\"),\n",
        "    Document(page_content=\"Embeddings convert text into high-dimensional vectors.\"),\n",
        "    Document(page_content=\"OpenAI provides powerful embedding models.\"),\n",
        "]"
      ]
    },
    {
      "cell_type": "code",
      "execution_count": 9,
      "metadata": {
        "colab": {
          "base_uri": "https://localhost:8080/"
        },
        "id": "HP5ADPCNciF5",
        "outputId": "0830bfe3-101d-43da-e29e-77390fb0a0fc"
      },
      "outputs": [],
      "source": [
        "# Step 3: Create Chroma vector store in memory\n",
        "vectorstore = Chroma.from_documents(\n",
        "    documents=documents,\n",
        "    embedding=embedding_model,\n",
        "    collection_name=\"my_collection\"\n",
        "    )"
      ]
    },
    {
      "cell_type": "code",
      "execution_count": 10,
      "metadata": {
        "id": "AZPwbBsQciIo"
      },
      "outputs": [],
      "source": [
        "# Step 4: Convert vectorstore into a retriever\n",
        "retriever = vectorstore.as_retriever(search_kwargs={\"k\": 2})"
      ]
    },
    {
      "cell_type": "code",
      "execution_count": 11,
      "metadata": {
        "id": "kChUnFSAciLX"
      },
      "outputs": [],
      "source": [
        "query = \"What is Chroma used for?\"\n",
        "results = retriever.invoke(query)"
      ]
    },
    {
      "cell_type": "code",
      "execution_count": 12,
      "metadata": {
        "colab": {
          "base_uri": "https://localhost:8080/"
        },
        "id": "pukrPvrlciN_",
        "outputId": "30e03b6f-07f3-40ff-a59b-9ea398f6c762"
      },
      "outputs": [
        {
          "name": "stdout",
          "output_type": "stream",
          "text": [
            "\n",
            "--- Result 1 ---\n",
            "Chroma is a vector database optimized for LLM-based search.\n",
            "\n",
            "--- Result 2 ---\n",
            "Embeddings convert text into high-dimensional vectors.\n"
          ]
        }
      ],
      "source": [
        "for i, doc in enumerate(results):\n",
        "    print(f\"\\n--- Result {i+1} ---\")\n",
        "    print(doc.page_content)"
      ]
    },
    {
      "cell_type": "code",
      "execution_count": 13,
      "metadata": {
        "id": "OnnzzcMmciQz"
      },
      "outputs": [],
      "source": [
        "results = vectorstore.similarity_search(query, k=2)"
      ]
    },
    {
      "cell_type": "code",
      "execution_count": 14,
      "metadata": {
        "colab": {
          "base_uri": "https://localhost:8080/"
        },
        "id": "GSsQuQ85ciTB",
        "outputId": "eb2bde18-d4ac-417a-dd54-a8b9f5b07160"
      },
      "outputs": [
        {
          "name": "stdout",
          "output_type": "stream",
          "text": [
            "\n",
            "--- Result 1 ---\n",
            "Chroma is a vector database optimized for LLM-based search.\n",
            "\n",
            "--- Result 2 ---\n",
            "Embeddings convert text into high-dimensional vectors.\n"
          ]
        }
      ],
      "source": [
        "for i, doc in enumerate(results):\n",
        "    print(f\"\\n--- Result {i+1} ---\")\n",
        "    print(doc.page_content)"
      ]
    }
  ],
  "metadata": {
    "accelerator": "GPU",
    "colab": {
      "gpuType": "T4",
      "provenance": []
    },
    "kernelspec": {
      "display_name": "Global2 (Python 3.12.5)",
      "language": "python",
      "name": "global2"
    },
    "language_info": {
      "codemirror_mode": {
        "name": "ipython",
        "version": 3
      },
      "file_extension": ".py",
      "mimetype": "text/x-python",
      "name": "python",
      "nbconvert_exporter": "python",
      "pygments_lexer": "ipython3",
      "version": "3.13.8"
    }
  },
  "nbformat": 4,
  "nbformat_minor": 0
}
